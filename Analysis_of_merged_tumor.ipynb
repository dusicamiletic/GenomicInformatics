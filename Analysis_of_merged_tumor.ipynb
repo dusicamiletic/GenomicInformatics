{
  "nbformat": 4,
  "nbformat_minor": 0,
  "metadata": {
    "colab": {
      "provenance": [],
      "toc_visible": true
    },
    "kernelspec": {
      "name": "python3",
      "display_name": "Python 3"
    },
    "language_info": {
      "name": "python"
    }
  },
  "cells": [
    {
      "cell_type": "code",
      "execution_count": 1,
      "metadata": {
        "colab": {
          "base_uri": "https://localhost:8080/"
        },
        "id": "8XduBDltfUnu",
        "outputId": "23a77229-fa10-4d8d-ced8-a453e938c1ae"
      },
      "outputs": [
        {
          "output_type": "stream",
          "name": "stdout",
          "text": [
            "Collecting pysam\n",
            "  Downloading pysam-0.22.0-cp310-cp310-manylinux_2_28_x86_64.whl (21.9 MB)\n",
            "\u001b[2K     \u001b[90m━━━━━━━━━━━━━━━━━━━━━━━━━━━━━━━━━━━━━━━━\u001b[0m \u001b[32m21.9/21.9 MB\u001b[0m \u001b[31m37.3 MB/s\u001b[0m eta \u001b[36m0:00:00\u001b[0m\n",
            "\u001b[?25hInstalling collected packages: pysam\n",
            "Successfully installed pysam-0.22.0\n"
          ]
        }
      ],
      "source": [
        "pip install pysam"
      ]
    },
    {
      "cell_type": "code",
      "source": [
        "import pysam"
      ],
      "metadata": {
        "id": "GJAtAArKfePw"
      },
      "execution_count": 2,
      "outputs": []
    },
    {
      "cell_type": "code",
      "source": [
        "from google.colab import files"
      ],
      "metadata": {
        "id": "zvhz6XLIh46t"
      },
      "execution_count": 5,
      "outputs": []
    },
    {
      "cell_type": "code",
      "source": [
        "uploaded = files.upload()"
      ],
      "metadata": {
        "colab": {
          "base_uri": "https://localhost:8080/",
          "height": 73
        },
        "id": "DqrtYuTFiMr2",
        "outputId": "ae2d8edf-3e4e-4003-d529-327d71d1d861"
      },
      "execution_count": 6,
      "outputs": [
        {
          "output_type": "display_data",
          "data": {
            "text/plain": [
              "<IPython.core.display.HTML object>"
            ],
            "text/html": [
              "\n",
              "     <input type=\"file\" id=\"files-7e4c0713-fe64-4df5-9bae-1eb41afedc07\" name=\"files[]\" multiple disabled\n",
              "        style=\"border:none\" />\n",
              "     <output id=\"result-7e4c0713-fe64-4df5-9bae-1eb41afedc07\">\n",
              "      Upload widget is only available when the cell has been executed in the\n",
              "      current browser session. Please rerun this cell to enable.\n",
              "      </output>\n",
              "      <script>// Copyright 2017 Google LLC\n",
              "//\n",
              "// Licensed under the Apache License, Version 2.0 (the \"License\");\n",
              "// you may not use this file except in compliance with the License.\n",
              "// You may obtain a copy of the License at\n",
              "//\n",
              "//      http://www.apache.org/licenses/LICENSE-2.0\n",
              "//\n",
              "// Unless required by applicable law or agreed to in writing, software\n",
              "// distributed under the License is distributed on an \"AS IS\" BASIS,\n",
              "// WITHOUT WARRANTIES OR CONDITIONS OF ANY KIND, either express or implied.\n",
              "// See the License for the specific language governing permissions and\n",
              "// limitations under the License.\n",
              "\n",
              "/**\n",
              " * @fileoverview Helpers for google.colab Python module.\n",
              " */\n",
              "(function(scope) {\n",
              "function span(text, styleAttributes = {}) {\n",
              "  const element = document.createElement('span');\n",
              "  element.textContent = text;\n",
              "  for (const key of Object.keys(styleAttributes)) {\n",
              "    element.style[key] = styleAttributes[key];\n",
              "  }\n",
              "  return element;\n",
              "}\n",
              "\n",
              "// Max number of bytes which will be uploaded at a time.\n",
              "const MAX_PAYLOAD_SIZE = 100 * 1024;\n",
              "\n",
              "function _uploadFiles(inputId, outputId) {\n",
              "  const steps = uploadFilesStep(inputId, outputId);\n",
              "  const outputElement = document.getElementById(outputId);\n",
              "  // Cache steps on the outputElement to make it available for the next call\n",
              "  // to uploadFilesContinue from Python.\n",
              "  outputElement.steps = steps;\n",
              "\n",
              "  return _uploadFilesContinue(outputId);\n",
              "}\n",
              "\n",
              "// This is roughly an async generator (not supported in the browser yet),\n",
              "// where there are multiple asynchronous steps and the Python side is going\n",
              "// to poll for completion of each step.\n",
              "// This uses a Promise to block the python side on completion of each step,\n",
              "// then passes the result of the previous step as the input to the next step.\n",
              "function _uploadFilesContinue(outputId) {\n",
              "  const outputElement = document.getElementById(outputId);\n",
              "  const steps = outputElement.steps;\n",
              "\n",
              "  const next = steps.next(outputElement.lastPromiseValue);\n",
              "  return Promise.resolve(next.value.promise).then((value) => {\n",
              "    // Cache the last promise value to make it available to the next\n",
              "    // step of the generator.\n",
              "    outputElement.lastPromiseValue = value;\n",
              "    return next.value.response;\n",
              "  });\n",
              "}\n",
              "\n",
              "/**\n",
              " * Generator function which is called between each async step of the upload\n",
              " * process.\n",
              " * @param {string} inputId Element ID of the input file picker element.\n",
              " * @param {string} outputId Element ID of the output display.\n",
              " * @return {!Iterable<!Object>} Iterable of next steps.\n",
              " */\n",
              "function* uploadFilesStep(inputId, outputId) {\n",
              "  const inputElement = document.getElementById(inputId);\n",
              "  inputElement.disabled = false;\n",
              "\n",
              "  const outputElement = document.getElementById(outputId);\n",
              "  outputElement.innerHTML = '';\n",
              "\n",
              "  const pickedPromise = new Promise((resolve) => {\n",
              "    inputElement.addEventListener('change', (e) => {\n",
              "      resolve(e.target.files);\n",
              "    });\n",
              "  });\n",
              "\n",
              "  const cancel = document.createElement('button');\n",
              "  inputElement.parentElement.appendChild(cancel);\n",
              "  cancel.textContent = 'Cancel upload';\n",
              "  const cancelPromise = new Promise((resolve) => {\n",
              "    cancel.onclick = () => {\n",
              "      resolve(null);\n",
              "    };\n",
              "  });\n",
              "\n",
              "  // Wait for the user to pick the files.\n",
              "  const files = yield {\n",
              "    promise: Promise.race([pickedPromise, cancelPromise]),\n",
              "    response: {\n",
              "      action: 'starting',\n",
              "    }\n",
              "  };\n",
              "\n",
              "  cancel.remove();\n",
              "\n",
              "  // Disable the input element since further picks are not allowed.\n",
              "  inputElement.disabled = true;\n",
              "\n",
              "  if (!files) {\n",
              "    return {\n",
              "      response: {\n",
              "        action: 'complete',\n",
              "      }\n",
              "    };\n",
              "  }\n",
              "\n",
              "  for (const file of files) {\n",
              "    const li = document.createElement('li');\n",
              "    li.append(span(file.name, {fontWeight: 'bold'}));\n",
              "    li.append(span(\n",
              "        `(${file.type || 'n/a'}) - ${file.size} bytes, ` +\n",
              "        `last modified: ${\n",
              "            file.lastModifiedDate ? file.lastModifiedDate.toLocaleDateString() :\n",
              "                                    'n/a'} - `));\n",
              "    const percent = span('0% done');\n",
              "    li.appendChild(percent);\n",
              "\n",
              "    outputElement.appendChild(li);\n",
              "\n",
              "    const fileDataPromise = new Promise((resolve) => {\n",
              "      const reader = new FileReader();\n",
              "      reader.onload = (e) => {\n",
              "        resolve(e.target.result);\n",
              "      };\n",
              "      reader.readAsArrayBuffer(file);\n",
              "    });\n",
              "    // Wait for the data to be ready.\n",
              "    let fileData = yield {\n",
              "      promise: fileDataPromise,\n",
              "      response: {\n",
              "        action: 'continue',\n",
              "      }\n",
              "    };\n",
              "\n",
              "    // Use a chunked sending to avoid message size limits. See b/62115660.\n",
              "    let position = 0;\n",
              "    do {\n",
              "      const length = Math.min(fileData.byteLength - position, MAX_PAYLOAD_SIZE);\n",
              "      const chunk = new Uint8Array(fileData, position, length);\n",
              "      position += length;\n",
              "\n",
              "      const base64 = btoa(String.fromCharCode.apply(null, chunk));\n",
              "      yield {\n",
              "        response: {\n",
              "          action: 'append',\n",
              "          file: file.name,\n",
              "          data: base64,\n",
              "        },\n",
              "      };\n",
              "\n",
              "      let percentDone = fileData.byteLength === 0 ?\n",
              "          100 :\n",
              "          Math.round((position / fileData.byteLength) * 100);\n",
              "      percent.textContent = `${percentDone}% done`;\n",
              "\n",
              "    } while (position < fileData.byteLength);\n",
              "  }\n",
              "\n",
              "  // All done.\n",
              "  yield {\n",
              "    response: {\n",
              "      action: 'complete',\n",
              "    }\n",
              "  };\n",
              "}\n",
              "\n",
              "scope.google = scope.google || {};\n",
              "scope.google.colab = scope.google.colab || {};\n",
              "scope.google.colab._files = {\n",
              "  _uploadFiles,\n",
              "  _uploadFilesContinue,\n",
              "};\n",
              "})(self);\n",
              "</script> "
            ]
          },
          "metadata": {}
        },
        {
          "output_type": "stream",
          "name": "stdout",
          "text": [
            "Saving merged-tumor.bam to merged-tumor.bam\n"
          ]
        }
      ]
    },
    {
      "cell_type": "code",
      "source": [
        "!ls -lh /content/merged-tumor.bam"
      ],
      "metadata": {
        "colab": {
          "base_uri": "https://localhost:8080/"
        },
        "id": "-T72de2krkdw",
        "outputId": "4bbcc888-9190-4245-e0b1-1213fd0ebebc"
      },
      "execution_count": 8,
      "outputs": [
        {
          "output_type": "stream",
          "name": "stdout",
          "text": [
            "-rw-r--r-- 1 root root 219M Apr 10 11:02 /content/merged-tumor.bam\n"
          ]
        }
      ]
    },
    {
      "cell_type": "code",
      "source": [
        "import pysam\n",
        "\n",
        "try:\n",
        "    fasta = pysam.Fastafile(\"/content/merged-tumor.bam\")\n",
        "    print(\"Datoteka uspešno otvorena.\")\n",
        "except Exception as e:\n",
        "    print(\"Došlo je do greške prilikom otvaranja datoteke:\")\n",
        "    print(e)\n"
      ],
      "metadata": {
        "colab": {
          "base_uri": "https://localhost:8080/"
        },
        "id": "XuuoEiVCr_px",
        "outputId": "48a23791-0440-4814-9d72-74e1c4f13063"
      },
      "execution_count": 10,
      "outputs": [
        {
          "output_type": "stream",
          "name": "stdout",
          "text": [
            "Došlo je do greške prilikom otvaranja datoteke:\n",
            "error when opening file `/content/merged-tumor.bam`\n"
          ]
        }
      ]
    },
    {
      "cell_type": "code",
      "source": [
        "!ls /content/"
      ],
      "metadata": {
        "colab": {
          "base_uri": "https://localhost:8080/"
        },
        "id": "7xNvoE1VtXdV",
        "outputId": "b6047145-35a3-44d9-ad4a-8f82d2e66875"
      },
      "execution_count": 12,
      "outputs": [
        {
          "output_type": "stream",
          "name": "stdout",
          "text": [
            "merged-tumor.bam  sample_data\n"
          ]
        }
      ]
    },
    {
      "cell_type": "code",
      "source": [
        "!ls /content/merged-tumor.bam"
      ],
      "metadata": {
        "colab": {
          "base_uri": "https://localhost:8080/"
        },
        "id": "FBzM-PsnutMZ",
        "outputId": "2692052a-c0b2-4e2c-a809-837dead7af93"
      },
      "execution_count": 13,
      "outputs": [
        {
          "output_type": "stream",
          "name": "stdout",
          "text": [
            "/content/merged-tumor.bam\n"
          ]
        }
      ]
    },
    {
      "cell_type": "code",
      "source": [
        "!apt-get install samtools\n"
      ],
      "metadata": {
        "colab": {
          "base_uri": "https://localhost:8080/"
        },
        "id": "xtdX6_SYuz4k",
        "outputId": "803f9368-bcf8-425a-d5e2-11b7e7702465"
      },
      "execution_count": 14,
      "outputs": [
        {
          "output_type": "stream",
          "name": "stdout",
          "text": [
            "Reading package lists... Done\n",
            "Building dependency tree... Done\n",
            "Reading state information... Done\n",
            "The following additional packages will be installed:\n",
            "  libhts3 libhtscodecs2\n",
            "Suggested packages:\n",
            "  cwltool\n",
            "The following NEW packages will be installed:\n",
            "  libhts3 libhtscodecs2 samtools\n",
            "0 upgraded, 3 newly installed, 0 to remove and 45 not upgraded.\n",
            "Need to get 963 kB of archives.\n",
            "After this operation, 2,270 kB of additional disk space will be used.\n",
            "Get:1 http://archive.ubuntu.com/ubuntu jammy/universe amd64 libhtscodecs2 amd64 1.1.1-3 [53.2 kB]\n",
            "Get:2 http://archive.ubuntu.com/ubuntu jammy/universe amd64 libhts3 amd64 1.13+ds-2build1 [390 kB]\n",
            "Get:3 http://archive.ubuntu.com/ubuntu jammy/universe amd64 samtools amd64 1.13-4 [520 kB]\n",
            "Fetched 963 kB in 0s (3,689 kB/s)\n",
            "Selecting previously unselected package libhtscodecs2:amd64.\n",
            "(Reading database ... 121752 files and directories currently installed.)\n",
            "Preparing to unpack .../libhtscodecs2_1.1.1-3_amd64.deb ...\n",
            "Unpacking libhtscodecs2:amd64 (1.1.1-3) ...\n",
            "Selecting previously unselected package libhts3:amd64.\n",
            "Preparing to unpack .../libhts3_1.13+ds-2build1_amd64.deb ...\n",
            "Unpacking libhts3:amd64 (1.13+ds-2build1) ...\n",
            "Selecting previously unselected package samtools.\n",
            "Preparing to unpack .../samtools_1.13-4_amd64.deb ...\n",
            "Unpacking samtools (1.13-4) ...\n",
            "Setting up libhtscodecs2:amd64 (1.1.1-3) ...\n",
            "Setting up libhts3:amd64 (1.13+ds-2build1) ...\n",
            "Setting up samtools (1.13-4) ...\n",
            "Processing triggers for man-db (2.10.2-1) ...\n",
            "Processing triggers for libc-bin (2.35-0ubuntu3.4) ...\n",
            "/sbin/ldconfig.real: /usr/local/lib/libtbbmalloc.so.2 is not a symbolic link\n",
            "\n",
            "/sbin/ldconfig.real: /usr/local/lib/libtbbbind_2_5.so.3 is not a symbolic link\n",
            "\n",
            "/sbin/ldconfig.real: /usr/local/lib/libtbbbind.so.3 is not a symbolic link\n",
            "\n",
            "/sbin/ldconfig.real: /usr/local/lib/libtbbbind_2_0.so.3 is not a symbolic link\n",
            "\n",
            "/sbin/ldconfig.real: /usr/local/lib/libtbbmalloc_proxy.so.2 is not a symbolic link\n",
            "\n",
            "/sbin/ldconfig.real: /usr/local/lib/libtbb.so.12 is not a symbolic link\n",
            "\n"
          ]
        }
      ]
    },
    {
      "cell_type": "code",
      "source": [
        "!samtools quickcheck /content/merged-tumor.bam\n"
      ],
      "metadata": {
        "id": "oaz5h3drvD2J"
      },
      "execution_count": 16,
      "outputs": []
    },
    {
      "cell_type": "code",
      "source": [
        "!samtools view /content/merged-tumor.bam | head\n"
      ],
      "metadata": {
        "colab": {
          "base_uri": "https://localhost:8080/"
        },
        "id": "sPhBG4z8vH_K",
        "outputId": "d0252a19-b466-46f9-c9f3-c8a232fc3914"
      },
      "execution_count": 17,
      "outputs": [
        {
          "output_type": "stream",
          "name": "stdout",
          "text": [
            "C0HVYACXX120402:7:1207:5722:57044\t1187\t21\t9483249\t27\t76M\t=\t9483382\t209\tTTTTCAAACAGTATCTATGCCTGCCAAATGTGAACATATAAAAAAAAACCAGAATGTGCCATTCTGATTTAAACTG\t==<>@?@@>@D?>@C?>8JA5?>CC>?@???BB;H-:4A?D=DB8BDE?GBJCD@B8??E<A>CDJB@B>AA@@@C\tXA:Z:GL000217.1,-110754,76M,1;\tBD:Z:NNNNNNNNNNNNNNNNNNNNNNNNNNNNNNNNNNNNNNNNNNNNNNNNNNNNNNNNNNNNNNNNNNNNNNNNNNNN\tMD:Z:76\tRG:Z:1\tBI:Z:NNNNNNNNNNNNNNNNNNNNNNNNNNNNNNNNNNNNNNNNNNNNNNNNNNNNNNNNNNNNNNNNNNNNNNNNNNNN\tNM:i:0\tMQ:i:27\tAS:i:76\tXS:i:71\n",
            "D0RE2ACXX120401:1:2105:2631:113383\t163\t21\t9483249\t27\t76M\t=\t9483382\t209\tTTTTCAAACAGTATCTATGCCTGCCAAATGTGAACATATAAAAAAAAACCAGAATGTGCCATTCTGATTTAAACTG\t=><?@?@@C@I?>CJC>BHIFE?HEC>D;J@B@DHCC>C@EFDDBDEDIFCH?>=04?EEEBBGCFB?BB>CA?@>\tXA:Z:GL000217.1,-110754,76M,1;\tBD:Z:NNNNNNNNNNNNNNNNNNNNNNNNNNNNNNNNNNNNNNNNNNNNNNNNNNNNNNNNNNNNNNNNNNNNNNNNNNNN\tMD:Z:76\tRG:Z:1\tBI:Z:NNNNNNNNNNNNNNNNNNNNNNNNNNNNNNNNNNNNNNNNNNNNNNNNNNNNNNNNNNNNNNNNNNNNNNNNNNNN\tNM:i:0\tMQ:i:27\tAS:i:76\tXS:i:71\n",
            "C0HVYACXX120402:5:1304:16767:148118\t99\t21\t9483250\t27\t76M\t=\t9483361\t187\tTTTCAAACAGTATCTATGCCTGCCAAATGTGAACATATAAAAAAAAACCAGAATGTGCCATTCTGATTTAAACTGC\tA==B@DEG@K6A>FD@AJIFEIIGCFEBJ@JCEIDBAAAFFDFFEFDIGDJDFAJ@EHFBACGFHC@DB@DCD?>C\tXA:Z:GL000217.1,-110753,76M,1;\tBD:Z:NNNNNNNNNNNNNNNNNNNNNNNNNNNNNNNNNNNNNNNNNNNNNNNNNNNNNNNNNNNNNNNNNNNNNNNNNNNN\tMD:Z:76\tRG:Z:1\tBI:Z:NNNNNNNNNNNNNNNNNNNNNNNNNNNNNNNNNNNNNNNNNNNNNNNNNNNNNNNNNNNNNNNNNNNNNNNNNNNN\tNM:i:0\tMQ:i:27\tAS:i:76\tXS:i:71\n",
            "C0HVYACXX120402:8:1101:6314:155036\t99\t21\t9483264\t51\t76M\t=\t9483294\t106\tTATGCCTGCCAAATGTGAACATATAAAAAAAAACCAGAATGTGCCATTCTGATTTAAACTGCTTATTAGTTAAAAC\tA>=CEFEKGFCEE@I@KCEICB@B?EDFDEEEEIFCKCEBJBJIFDACJEJDADC@FFHFLHF@@@B@J?C@A?@C\tXA:Z:GL000217.1,-110739,76M,1;\tBD:Z:NNNNNNNNNNNNNNNNNNNNNNNNNNNNNNNNNNNNNNNNNNNNNNNNNNNNNNNNNNNNNNNNNNNNNNNNNNNN\tMD:Z:76\tRG:Z:1\tBI:Z:NNNNNNNNNNNNNNNNNNNNNNNNNNNNNNNNNNNNNNNNNNNNNNNNNNNNNNNNNNNNNNNNNNNNNNNNNNNN\tNM:i:0\tMQ:i:49\tAS:i:76\tXS:i:71\n",
            "D0RE2ACXX120401:4:2106:2222:188475\t99\t21\t9483267\t27\t76M\t=\t9483344\t153\tGCCTGCCAAATGTGAACATATAAAAAAAAACCAGAATGTGCCATTCTGATTTAAACTGCTTATTAGTTAAAACCCT\tAA@BEFFDDE@J@EBEJC@@@AEDEFEDDEJFCHCE@J@IIFDBBJEJB@CDAFFIFIHF@?A@@E@DAFDDD?@C\tXA:Z:GL000217.1,-110736,76M,1;\tBD:Z:NNNNNNNNNNNNNNNNNNNNNNNNNNNNNNNNNNNNNNNNNNNNNNNNNNNNNNNNNNNNNNNNNNNNNNNNNNNN\tMD:Z:76\tRG:Z:1\tBI:Z:NNNNNNNNNNNNNNNNNNNNNNNNNNNNNNNNNNNNNNNNNNNNNNNNNNNNNNNNNNNNNNNNNNNNNNNNNNNN\tNM:i:0\tMQ:i:27\tAS:i:76\tXS:i:71\n",
            "C0HVYACXX120402:7:2104:3109:85401\t163\t21\t9483270\t27\t76M\t=\t9483314\t120\tTGCCAAATGTGAACATATAAAAAAAAACCAGAATGTGCCATTCTGATTTAAACTGCTTATTAGTTAAAACCCTCAA\t=7=A?BCAI@H@DJBB>B>DCCCDCCDJCBICEBJBJIGBCCKEICBCC@DFJEJIGCBBC@KBBADEDHFDA@@A\tXA:Z:GL000217.1,-110733,76M,1;\tBD:Z:NNNNNNNNNNNNNNNNNNNNNNNNNNNNNNNNNNNNNNNNNNNNNNNNNNNNNNNNNNNNNNNNNNNNNNNNNNNN\tMD:Z:76\tRG:Z:1\tBI:Z:NNNNNNNNNNNNNNNNNNNNNNNNNNNNNNNNNNNNNNNNNNNNNNNNNNNNNNNNNNNNNNNNNNNNNNNNNNNN\tNM:i:0\tMQ:i:27\tAS:i:76\tXS:i:71\n",
            "C0HVYACXX120402:3:1307:14105:43830\t99\t21\t9483279\t27\t76M\t=\t9483392\t189\tTGAACATATAAAAAAAAACCAGAATGTGCCATTCTGATTTAAACTGCTTATTAGTTAAAACCCTCAAGATAACATC\tA??BED@B?@EEEEEEEEIECICF@J@HIFD@DKEKBACCAFFJEJHECABDAJ@DAFFDJGFFGBFGA@@BD?@D\tXA:Z:GL000217.1,-110724,76M,1;\tBD:Z:NNNNNNNNNNNNNNNNNNNNNNNNNNNNNNNNNNNNNNNNNNNNNNNNNNNNNNNNNNNNNNNNNNNNNNNNNNNN\tMD:Z:76\tRG:Z:1\tBI:Z:NNNNNNNNNNNNNNNNNNNNNNNNNNNNNNNNNNNNNNNNNNNNNNNNNNNNNNNNNNNNNNNNNNNNNNNNNNNN\tNM:i:0\tMQ:i:27\tAS:i:76\tXS:i:71\n",
            "D0RH0ACXX120402:2:2211:20196:13130\t1123\t21\t9483279\t27\t76M\t=\t9483392\t189\tTGAACATATAAAAAAAAACCAGAATGTGCCATTCTGATTTAAACTGCTTATTAGTTAAAACCCTCAAGATAACATC\t@@<?CD@B?@E=EAEEEEIFCECD@H@HIFDACCEI@@CC@FFJEJHECA@DAG@@@FFFFCFFGBDHA@@BB?@A\tXA:Z:GL000217.1,-110724,76M,1;\tBD:Z:NNNNNNNNNNNNNNNNNNNNNNNNNNNNNNNNNNNNNNNNNNNNNNNNNNNNNNNNNNNNNNNNNNNNNNNNNNNN\tMD:Z:76\tRG:Z:1\tBI:Z:NNNNNNNNNNNNNNNNNNNNNNNNNNNNNNNNNNNNNNNNNNNNNNNNNNNNNNNNNNNNNNNNNNNNNNNNNNNN\tNM:i:0\tMQ:i:27\tAS:i:76\tXS:i:71\n",
            "D0RE2ACXX120401:1:1201:14782:65302\t99\t21\t9483280\t27\t76M\t=\t9483401\t197\tGAACATATAAAAAAAAACCAGAATGTGCCATTCTGATTTAAACTGCTTATTAGTTAAAACCCTCAAGATAACATCT\t@@?BC@A@?EEEBEEE@CDCDBBAE7CGGA@CADIBCCC?FDICBIDCA@CAJADAFFFHFFDGDFIA@@@F@>@B\tXA:Z:GL000217.1,-110723,76M,1;\tBD:Z:NNNNNNNNNNNNNNNNNNNNNNNNNNNNNNNNNNNNNNNNNNNNNNNNNNNNNNNNNNNNNNNNNNNNNNNNNNNN\tMD:Z:76\tRG:Z:1\tBI:Z:NNNNNNNNNNNNNNNNNNNNNNNNNNNNNNNNNNNNNNNNNNNNNNNNNNNNNNNNNNNNNNNNNNNNNNNNNNNN\tNM:i:0\tMQ:i:27\tAS:i:76\tXS:i:71\n",
            "D0RE2ACXX120401:7:1304:12042:51117\t1123\t21\t9483280\t27\t76M\t=\t9483401\t197\tGAACATATAAAAAAAAACCAGAATGTGCCATTCTGATTTAAACTGCTTATTAGTTAAAACCCTCAAGATAACATCT\tA@?BC@A@@EEEEADBEID@ICEAI@JEEDACJEJBBCDAFDIEJGECABCAJ@@AFFFJGGFGDDI@A@EEA>AB\tXA:Z:GL000217.1,-110723,76M,1;\tBD:Z:NNNNNNNNNNNNNNNNNNNNNNNNNNNNNNNNNNNNNNNNNNNNNNNNNNNNNNNNNNNNNNNNNNNNNNNNNNNN\tMD:Z:76\tRG:Z:1\tBI:Z:NNNNNNNNNNNNNNNNNNNNNNNNNNNNNNNNNNNNNNNNNNNNNNNNNNNNNNNNNNNNNNNNNNNNNNNNNNNN\tNM:i:0\tMQ:i:27\tAS:i:76\tXS:i:71\n"
          ]
        }
      ]
    },
    {
      "cell_type": "code",
      "source": [
        "import pysam\n",
        "\n",
        "try:\n",
        "    fasta = pysam.Fastafile(\"/content/merged-tumor.bam\")\n",
        "    print(\"Datoteka uspešno otvorena.\")\n",
        "except Exception as e:\n",
        "    print(\"Došlo je do greške prilikom otvaranja datoteke:\")\n",
        "    print(e)\n"
      ],
      "metadata": {
        "colab": {
          "base_uri": "https://localhost:8080/"
        },
        "id": "noRRO1PNwSi8",
        "outputId": "81cbfae9-a30b-4e9b-f8a4-affa499b939e"
      },
      "execution_count": 23,
      "outputs": [
        {
          "output_type": "stream",
          "name": "stdout",
          "text": [
            "Došlo je do greške prilikom otvaranja datoteke:\n",
            "error when opening file `/content/merged-tumor.bam`\n"
          ]
        }
      ]
    },
    {
      "cell_type": "code",
      "source": [
        "import os\n",
        "\n",
        "# Provera da li datoteka postoji na određenoj putanji\n",
        "file_path = \"/content/merged-tumor.bam\"\n",
        "if os.path.exists(file_path):\n",
        "    print(\"Datoteka postoji.\")\n",
        "else:\n",
        "    print(\"Datoteka ne postoji na navedenoj putanji.\")\n"
      ],
      "metadata": {
        "colab": {
          "base_uri": "https://localhost:8080/"
        },
        "id": "isgWTubZwZsk",
        "outputId": "b9534f69-a73a-4b66-dafd-ee738fa35137"
      },
      "execution_count": 24,
      "outputs": [
        {
          "output_type": "stream",
          "name": "stdout",
          "text": [
            "Datoteka postoji.\n"
          ]
        }
      ]
    },
    {
      "cell_type": "code",
      "source": [
        "import os\n",
        "\n",
        "# Provera dozvola za datoteku\n",
        "file_path = \"/content/merged-tumor.bam\"\n",
        "permissions = os.access(file_path, os.R_OK)\n",
        "if permissions:\n",
        "    print(\"Imate dozvolu za čitanje datoteke.\")\n",
        "else:\n",
        "    print(\"Nemate dozvolu za čitanje datoteke ili datoteka nije čitljiva.\")\n"
      ],
      "metadata": {
        "colab": {
          "base_uri": "https://localhost:8080/"
        },
        "id": "dgBUnw_RwdwD",
        "outputId": "6fb4b826-272e-4274-e122-b58c2c8ab0fb"
      },
      "execution_count": 25,
      "outputs": [
        {
          "output_type": "stream",
          "name": "stdout",
          "text": [
            "Imate dozvolu za čitanje datoteke.\n"
          ]
        }
      ]
    },
    {
      "cell_type": "code",
      "source": [
        "\n",
        "try:\n",
        "    with pysam.AlignmentFile(\"/content/merged-tumor.bam\", \"rb\") as bamfile:\n",
        "        print(\"Datoteka uspešno otvorena.\")\n",
        "        fasta=pysam.AlignmentFile(\"/content/merged-tumor.bam\")\n",
        "        first_read = next(fasta)\n",
        "        print(first_read)\n",
        "        print(\"Ime zapisa: \", first_read.query_name)\n",
        "        print(\"Flag: \", first_read.flag)\n",
        "        print(\"Id referentnog kontiga na koji je read mapiran: \", first_read.reference_id)\n",
        "        print(\"Pozicija na kojoj se read poravnava: \", first_read.reference_start)\n",
        "        print(\"Read je zapravo poravnat na poziciju 9483249 na referentnom kontigu, jer indeksiranje počinje od 0\")\n",
        "        print(\"Kvalitet mapiranja: \", first_read.mapping_quality)\n",
        "        print(\"CIGAR string koji opisuje mapiranje: \", first_read.cigarstring)\n",
        "        print(\"Id ref kontiga na koji je mate read mapiran: \", first_read.next_reference_id)\n",
        "        print(\"Pocetna pozicija mate read-a na referenci: \", first_read.next_reference_start)\n",
        "        print(\"Read je zapravo poravnat na poziciju 9483382 na referentnom kontigu, jer indeksiranje počinje od 0\")\n",
        "        print(\"Fizicka udaljenost između parova: \", first_read.template_length)\n",
        "        print(\"Sekvenca: \", first_read.query_sequence)\n",
        "        print(\"Kvaliteti baza zapisa: \", first_read.query_qualities)\n",
        "        print(\"Sto se tice flag-a: read paired, read mapped in proper pair, mate reverse strand, second in pair, read is PCR or optical duplicate\")\n",
        "        references = fasta.references\n",
        "except Exception as e:\n",
        "    print(\"Došlo je do greške prilikom otvaranja datoteke:\")\n",
        "    print(e)\n"
      ],
      "metadata": {
        "colab": {
          "base_uri": "https://localhost:8080/"
        },
        "id": "WPt7nLhlwqBn",
        "outputId": "f7ede5d5-e7a7-47e7-94a6-d6206028a7a7"
      },
      "execution_count": 81,
      "outputs": [
        {
          "output_type": "stream",
          "name": "stdout",
          "text": [
            "Datoteka uspešno otvorena.\n",
            "C0HVYACXX120402:7:1207:5722:57044\t1187\t#20\t9483249\t27\t76M\t#20\t9483382\t209\tTTTTCAAACAGTATCTATGCCTGCCAAATGTGAACATATAAAAAAAAACCAGAATGTGCCATTCTGATTTAAACTG\tarray('B', [28, 28, 27, 29, 31, 30, 31, 31, 29, 31, 35, 30, 29, 31, 34, 30, 29, 23, 41, 32, 20, 30, 29, 34, 34, 29, 30, 31, 30, 30, 30, 33, 33, 26, 39, 12, 25, 19, 32, 30, 35, 28, 35, 33, 23, 33, 35, 36, 30, 38, 33, 41, 34, 35, 31, 33, 23, 30, 30, 36, 27, 32, 29, 34, 35, 41, 33, 31, 33, 29, 32, 32, 31, 31, 31, 34])\t[('XA', 'GL000217.1,-110754,76M,1;'), ('BD', 'NNNNNNNNNNNNNNNNNNNNNNNNNNNNNNNNNNNNNNNNNNNNNNNNNNNNNNNNNNNNNNNNNNNNNNNNNNNN'), ('MD', '76'), ('RG', '1'), ('BI', 'NNNNNNNNNNNNNNNNNNNNNNNNNNNNNNNNNNNNNNNNNNNNNNNNNNNNNNNNNNNNNNNNNNNNNNNNNNNN'), ('NM', 0), ('MQ', 27), ('AS', 76), ('XS', 71)]\n",
            "Ime zapisa:  C0HVYACXX120402:7:1207:5722:57044\n",
            "Flag:  1187\n",
            "Id referentnog kontiga na koji je read mapiran:  20\n",
            "Pozicija na kojoj se read poravnava:  9483248\n",
            "Read je zapravo poravnat na poziciju 9483249 na referentnom kontigu, jer indeksiranje počinje od 0\n",
            "Kvalitet mapiranja:  27\n",
            "CIGAR string koji opisuje mapiranje:  76M\n",
            "Id ref kontiga na koji je mate read mapiran:  20\n",
            "Pocetna pozicija mate read-a na referenci:  9483381\n",
            "Read je zapravo poravnat na poziciju 9483382 na referentnom kontigu, jer indeksiranje počinje od 0\n",
            "Fizicka udaljenost između parova:  209\n",
            "Sekvenca:  TTTTCAAACAGTATCTATGCCTGCCAAATGTGAACATATAAAAAAAAACCAGAATGTGCCATTCTGATTTAAACTG\n",
            "Kvaliteti baza zapisa:  array('B', [28, 28, 27, 29, 31, 30, 31, 31, 29, 31, 35, 30, 29, 31, 34, 30, 29, 23, 41, 32, 20, 30, 29, 34, 34, 29, 30, 31, 30, 30, 30, 33, 33, 26, 39, 12, 25, 19, 32, 30, 35, 28, 35, 33, 23, 33, 35, 36, 30, 38, 33, 41, 34, 35, 31, 33, 23, 30, 30, 36, 27, 32, 29, 34, 35, 41, 33, 31, 33, 29, 32, 32, 31, 31, 31, 34])\n",
            "Sto se tice flag-a: read paired, read mapped in proper pair, mate reverse strand, second in pair, read is PCR or optical duplicate\n"
          ]
        }
      ]
    },
    {
      "cell_type": "code",
      "source": [
        "#otvaram BAM fajl za citanje\n",
        "with pysam.AlignmentFile(\"/content/merged-tumor.bam\", \"rb\") as bamfile:\n",
        "    # Brojač za nemapirane readove\n",
        "    unmapped_reads_count = 0\n",
        "\n",
        "    # Iteriranje kroz sve read-ove\n",
        "    for read in bamfile:\n",
        "        # Provera da li je trenutni read nemapiran\n",
        "        if read.is_unmapped:\n",
        "            unmapped_reads_count += 1\n",
        "\n",
        "# Ispis broja nemapiranih readova\n",
        "print(\"Broj nemapiranih read-ova je:\", unmapped_reads_count)"
      ],
      "metadata": {
        "colab": {
          "base_uri": "https://localhost:8080/"
        },
        "id": "cv7ewPqCDR0V",
        "outputId": "a7989f70-f338-42b1-c028-ef4229550630"
      },
      "execution_count": 76,
      "outputs": [
        {
          "output_type": "stream",
          "name": "stdout",
          "text": [
            "Broj nemapiranih read-ova je: 17765\n"
          ]
        }
      ]
    },
    {
      "cell_type": "code",
      "source": [
        "!samtools index /content/merged-tumor.bam\n"
      ],
      "metadata": {
        "id": "yALyp45YD96j"
      },
      "execution_count": 66,
      "outputs": []
    },
    {
      "cell_type": "code",
      "source": [
        "with pysam.AlignmentFile(\"/content/merged-tumor.bam\", \"rb\") as bamfile:\n",
        "    # Brojanje ukupnog broja read-ova\n",
        "    total_reads_count = bamfile.count()\n",
        "\n",
        "print(\"Ukupan broj read-ova:\", total_reads_count)"
      ],
      "metadata": {
        "colab": {
          "base_uri": "https://localhost:8080/"
        },
        "id": "9hq82TYaEFxS",
        "outputId": "ddfc2784-25af-4aa3-ffc1-510be507a520"
      },
      "execution_count": 77,
      "outputs": [
        {
          "output_type": "stream",
          "name": "stdout",
          "text": [
            "Ukupan broj read-ova: 2921629\n"
          ]
        }
      ]
    },
    {
      "cell_type": "code",
      "source": [
        "with pysam.AlignmentFile(\"/content/merged-tumor.bam\", \"rb\") as bamfile:\n",
        "    # Brojač za read-ove sa kvalitetom mapiranja 0\n",
        "    zero_mapping_quality_reads_count = 0\n",
        "\n",
        "    # Iteriranje kroz sve read-ove\n",
        "    for read in bamfile:\n",
        "        # Provera da li je kvalitet mapiranja 0\n",
        "        if read.mapping_quality == 0:\n",
        "            zero_mapping_quality_reads_count += 1\n",
        "\n",
        "# Ispis broja read-ova sa kvalitetom mapiranja 0\n",
        "print(\"Broj read-ova sa kvalitetom mapiranja 0:\", zero_mapping_quality_reads_count)\n"
      ],
      "metadata": {
        "colab": {
          "base_uri": "https://localhost:8080/"
        },
        "id": "EgnQ966_EIUh",
        "outputId": "48ca54bb-d5a1-4ba8-fedd-1f6664064d7b"
      },
      "execution_count": 78,
      "outputs": [
        {
          "output_type": "stream",
          "name": "stdout",
          "text": [
            "Broj read-ova sa kvalitetom mapiranja 0: 126628\n"
          ]
        }
      ]
    },
    {
      "cell_type": "code",
      "source": [
        "with pysam.AlignmentFile(\"/content/merged-tumor.bam\", \"rb\") as bamfile:\n",
        "    # Inicijalizacija promenljivih za sumu kvaliteta mapiranja i ukupan broj očitavanja\n",
        "    total_mapping_quality_sum = 0\n",
        "    total_reads_count = 0\n",
        "\n",
        "    # Iteriranje kroz sve read-ove\n",
        "    for read in bamfile:\n",
        "        # Dodavanje kvaliteta mapiranja ovog read-a u sumu\n",
        "        total_mapping_quality_sum += read.mapping_quality\n",
        "        # Inkrementacija brojača ukupnog broja read-ova\n",
        "        total_reads_count += 1\n",
        "\n",
        "# Izračunavanje prosečnog kvaliteta mapiranja\n",
        "average_mapping_quality = total_mapping_quality_sum / total_reads_count\n",
        "\n",
        "# Ispis prosečnog kvaliteta mapiranja\n",
        "print(\"Prosečan kvalitet mapiranja za sve read-ove:\", average_mapping_quality)\n"
      ],
      "metadata": {
        "colab": {
          "base_uri": "https://localhost:8080/"
        },
        "id": "5s8ihtTiFPrh",
        "outputId": "59697fe1-bb02-4e0c-9d34-7d8ab579e6f0"
      },
      "execution_count": 79,
      "outputs": [
        {
          "output_type": "stream",
          "name": "stdout",
          "text": [
            "Prosečan kvalitet mapiranja za sve read-ove: 55.91379158681681\n"
          ]
        }
      ]
    },
    {
      "cell_type": "code",
      "source": [
        "with pysam.AlignmentFile(\"/content/merged-tumor.bam\", \"rb\") as bamfile:\n",
        "    # Inicijalizacija promenljivih za sumu kvaliteta mapiranja i ukupan broj read-ova\n",
        "    #kada izostavimo read-ove ciji je kvalitet mapiranja nula\n",
        "    total_mapping_quality_sum = 0\n",
        "    total_reads_count = 0\n",
        "\n",
        "    # Iteriranje kroz sve read-ove\n",
        "    for read in bamfile:\n",
        "        # Provera da li je kvalitet mapiranja veći od 0\n",
        "        if read.mapping_quality > 0:\n",
        "            # Dodavanje kvaliteta mapiranja ovog read-ova u sumu\n",
        "            total_mapping_quality_sum += read.mapping_quality\n",
        "            # Inkrementacija brojača\n",
        "            total_reads_count += 1\n",
        "\n",
        "# Izračunavanje prosečnog kvaliteta mapiranja\n",
        "average_mapping_quality = total_mapping_quality_sum / total_reads_count\n",
        "\n",
        "# Ispis prosečnog kvaliteta mapiranja\n",
        "print(\"Prosečan kvalitet mapiranja za read-ove sa kvalitetom vecim od 0:\", average_mapping_quality)\n"
      ],
      "metadata": {
        "colab": {
          "base_uri": "https://localhost:8080/"
        },
        "id": "lNKPdsg_Fw2B",
        "outputId": "5080264d-b89a-4f5d-df82-5ddf8e5a048f"
      },
      "execution_count": 80,
      "outputs": [
        {
          "output_type": "stream",
          "name": "stdout",
          "text": [
            "Prosečan kvalitet mapiranja za read-ove sa kvalitetom vecim od 0: 58.446975510921106\n"
          ]
        }
      ]
    },
    {
      "cell_type": "code",
      "source": [],
      "metadata": {
        "id": "aIEAEmmbGAc2"
      },
      "execution_count": null,
      "outputs": []
    }
  ]
}